{
  "nbformat": 4,
  "nbformat_minor": 0,
  "metadata": {
    "colab": {
      "provenance": [],
      "authorship_tag": "ABX9TyPkJiVbmCPOxAdlZAEEvelF",
      "include_colab_link": true
    },
    "kernelspec": {
      "name": "python3",
      "display_name": "Python 3"
    },
    "language_info": {
      "name": "python"
    }
  },
  "cells": [
    {
      "cell_type": "markdown",
      "metadata": {
        "id": "view-in-github",
        "colab_type": "text"
      },
      "source": [
        "<a href=\"https://colab.research.google.com/github/pnperl/blank-app/blob/main/gmail.ipynb\" target=\"_parent\"><img src=\"https://colab.research.google.com/assets/colab-badge.svg\" alt=\"Open In Colab\"/></a>"
      ]
    },
    {
      "cell_type": "code",
      "source": [
        "import pandas as pd\n",
        "import requests\n",
        "\n",
        "# Paste your web app URL here 👇\n",
        "url = \"https://script.google.com/macros/s/AKfycbw8SQqED23Tkgk8Lfh-cB7r7KY4qYw8H9oyIFDtLJhTol3GvGRQXlpagWVjOiG7klwP/exec\"\n",
        "\n",
        "data = requests.get(url).json()\n",
        "df = pd.DataFrame(data)\n",
        "\n",
        "df.head()\n"
      ],
      "metadata": {
        "id": "YHNqI9wFm4TW"
      },
      "execution_count": null,
      "outputs": []
    }
  ]
}